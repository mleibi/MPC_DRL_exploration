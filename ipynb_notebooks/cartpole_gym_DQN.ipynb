{
 "cells": [
  {
   "attachments": {},
   "cell_type": "markdown",
   "metadata": {},
   "source": [
    "# DQN Cartpole solution\n",
    "Solving the Open AI Gym cartpole problem with a DQN algorithm. "
   ]
  },
  {
   "cell_type": "code",
   "execution_count": 1,
   "metadata": {},
   "outputs": [],
   "source": [
    "# imports\n",
    "import gym\n",
    "import numpy as np\n",
    "import random\n",
    "from tensorflow.keras.models import Sequential\n",
    "from tensorflow.keras.layers import Dense\n",
    "from tensorflow.keras.optimizers import Adam\n",
    "from collections import deque\n",
    "import time\n",
    "from statistics import mean, median, stdev"
   ]
  },
  {
   "cell_type": "code",
   "execution_count": 8,
   "metadata": {},
   "outputs": [],
   "source": [
    "# Hyperparameters\n",
    "gamma = 0.95\n",
    "learning_rate = 0.001\n",
    "epsilon = 1.0\n",
    "epsilon_min = 0.01\n",
    "epsilon_decay = 0.995\n",
    "memory_size = 5000\n",
    "batch_size = 64"
   ]
  },
  {
   "cell_type": "code",
   "execution_count": 9,
   "metadata": {},
   "outputs": [],
   "source": [
    "# DQN Agent\n",
    "class DQNAgent:\n",
    "    def __init__(self, state_size, action_size):\n",
    "        self.state_size = state_size\n",
    "        self.action_size = action_size\n",
    "        self.memory = deque(maxlen=memory_size)\n",
    "        self.epsilon = epsilon\n",
    "        self.gamma = gamma\n",
    "        self.epsilon_min = epsilon_min\n",
    "        self.epsilon_decay = epsilon_decay\n",
    "        self.model = self.build_model()\n",
    "\n",
    "    def build_model(self):\n",
    "        model = Sequential()\n",
    "        model.add(Dense(24, input_dim=self.state_size, activation='relu'))\n",
    "        model.add(Dense(48, activation='relu'))\n",
    "        model.add(Dense(96, activation='relu'))\n",
    "        model.add(Dense(48, activation='relu'))\n",
    "        model.add(Dense(24, activation='relu'))\n",
    "        model.add(Dense(self.action_size, activation='linear'))\n",
    "        model.compile(loss='mse', optimizer=Adam(learning_rate=learning_rate))\n",
    "        return model\n",
    "\n",
    "    def remember(self, state, action, reward, next_state, done):\n",
    "        self.memory.append((state, action, reward, next_state, done))\n",
    "\n",
    "    def act(self, state):\n",
    "        if np.random.rand() <= self.epsilon:\n",
    "            return random.randrange(self.action_size)\n",
    "        act_values = self.model.predict(state, verbose = 0)\n",
    "        return np.argmax(act_values[0])\n",
    "\n",
    "    def replay(self, batch_size):\n",
    "        minibatch = random.sample(self.memory, batch_size)\n",
    "        for state, action, reward, next_state, done in minibatch:\n",
    "            target = reward\n",
    "            if not done:\n",
    "                target = (reward + self.gamma * np.amax(self.model.predict(next_state, verbose = 0)[0])) # Bellman equation\n",
    "            target_f = self.model.predict(state, verbose = 0)\n",
    "            target_f[0][action] = target\n",
    "            self.model.fit(state, target_f, epochs=1, verbose=0)\n",
    "        if self.epsilon > self.epsilon_min:\n",
    "            self.epsilon *= self.epsilon_decay"
   ]
  },
  {
   "cell_type": "code",
   "execution_count": 8,
   "metadata": {},
   "outputs": [
    {
     "name": "stdout",
     "output_type": "stream",
     "text": [
      "state_size  4\n",
      "action_size  2\n"
     ]
    }
   ],
   "source": [
    "# Initialize environment and agent\n",
    "env = gym.make('CartPole-v1', render_mode='human')\n",
    "state_size = env.observation_space.shape[0]\n",
    "print('state_size ', state_size)\n",
    "action_size = env.action_space.n\n",
    "print('action_size ', action_size)\n",
    "agent = DQNAgent(state_size, action_size)\n",
    "env.close()"
   ]
  },
  {
   "cell_type": "code",
   "execution_count": 11,
   "metadata": {},
   "outputs": [
    {
     "name": "stdout",
     "output_type": "stream",
     "text": [
      "Test Episode: 1/10, Score: 10\n",
      "Test Episode: 2/10, Score: 9\n",
      "Test Episode: 3/10, Score: 10\n",
      "Test Episode: 4/10, Score: 11\n",
      "Test Episode: 5/10, Score: 8\n",
      "Test Episode: 6/10, Score: 9\n",
      "Test Episode: 7/10, Score: 9\n",
      "Test Episode: 8/10, Score: 10\n",
      "Test Episode: 9/10, Score: 9\n",
      "Test Episode: 10/10, Score: 9\n",
      "\n",
      "pretraining: score average  9.4\n"
     ]
    }
   ],
   "source": [
    "# pretraining test\n",
    "env = gym.make('CartPole-v1')\n",
    "test_episodes = 10\n",
    "test_average = 0\n",
    "for e in range(test_episodes):\n",
    "    state, done = env.reset()\n",
    "    state = np.reshape(state, [1, state_size])\n",
    "    done = False\n",
    "    t = 0\n",
    "    while not done:\n",
    "        action = np.argmax(agent.model.predict(state, verbose = 0)[0])\n",
    "        next_state, reward, done, info, _ = env.step(action)\n",
    "        next_state = np.reshape(next_state, [1, state_size])\n",
    "        state = next_state\n",
    "        t += 1\n",
    "        if done:\n",
    "            print(\"Test Episode: {}/{}, Score: {}\".format(e + 1, test_episodes, t))\n",
    "            test_average += t\n",
    "            break\n",
    "test_average/=test_episodes\n",
    "print()\n",
    "print('pretraining: score average ', test_average)\n",
    "test_average = 0\n",
    "env.close()"
   ]
  },
  {
   "cell_type": "code",
   "execution_count": 12,
   "metadata": {},
   "outputs": [
    {
     "name": "stdout",
     "output_type": "stream",
     "text": [
      "Episode: 1/500, Score: 14\n",
      "Elapsed time:  0.00039005279541015625\n",
      "Episode: 11/500, Score: 28\n",
      "Elapsed time:  25.248446941375732\n",
      "Episode: 21/500, Score: 10\n",
      "Elapsed time:  42.70674514770508\n",
      "Episode: 31/500, Score: 12\n",
      "Elapsed time:  42.31243324279785\n",
      "Episode: 41/500, Score: 21\n",
      "Elapsed time:  42.27797985076904\n",
      "Episode: 51/500, Score: 31\n",
      "Elapsed time:  42.670127868652344\n",
      "Episode: 61/500, Score: 60\n",
      "Elapsed time:  44.56487488746643\n",
      "Episode: 71/500, Score: 12\n",
      "Elapsed time:  43.96790909767151\n",
      "Episode: 81/500, Score: 106\n",
      "Elapsed time:  46.53137493133545\n",
      "Episode: 91/500, Score: 44\n",
      "Elapsed time:  45.89152002334595\n",
      "Episode: 101/500, Score: 106\n",
      "Elapsed time:  45.57311987876892\n",
      "Episode: 111/500, Score: 46\n",
      "Elapsed time:  45.73250484466553\n",
      "Episode: 121/500, Score: 65\n",
      "Elapsed time:  49.304116010665894\n",
      "Episode: 131/500, Score: 11\n",
      "Elapsed time:  46.268444299697876\n",
      "Episode: 141/500, Score: 112\n",
      "Elapsed time:  50.61695575714111\n",
      "Episode: 151/500, Score: 12\n",
      "Elapsed time:  51.222471952438354\n",
      "Episode: 161/500, Score: 85\n",
      "Elapsed time:  51.28234314918518\n",
      "Episode: 171/500, Score: 228\n",
      "Elapsed time:  58.30903387069702\n",
      "Episode: 181/500, Score: 170\n",
      "Elapsed time:  65.54382920265198\n",
      "Episode: 191/500, Score: 190\n",
      "Elapsed time:  55.56234288215637\n",
      "Episode: 201/500, Score: 42\n",
      "Elapsed time:  66.65645694732666\n",
      "Episode: 211/500, Score: 158\n",
      "Elapsed time:  66.55072832107544\n",
      "Episode: 221/500, Score: 252\n",
      "Elapsed time:  74.58276891708374\n",
      "Episode: 231/500, Score: 196\n",
      "Elapsed time:  62.26308798789978\n",
      "Episode: 241/500, Score: 408\n",
      "Elapsed time:  72.52905988693237\n",
      "Episode: 251/500, Score: 210\n",
      "Elapsed time:  77.15136671066284\n",
      "Episode: 261/500, Score: 255\n",
      "Elapsed time:  77.51058506965637\n",
      "Episode: 271/500, Score: 224\n",
      "Elapsed time:  77.84284901618958\n",
      "Episode: 281/500, Score: 165\n",
      "Elapsed time:  76.39552092552185\n",
      "Episode: 291/500, Score: 165\n",
      "Elapsed time:  75.73739218711853\n",
      "Episode: 301/500, Score: 197\n",
      "Elapsed time:  72.97082924842834\n",
      "Episode: 311/500, Score: 131\n",
      "Elapsed time:  62.48277807235718\n",
      "Episode: 321/500, Score: 140\n",
      "Elapsed time:  69.79300498962402\n",
      "Episode: 331/500, Score: 18\n",
      "Elapsed time:  73.64798521995544\n",
      "Episode: 341/500, Score: 124\n",
      "Elapsed time:  58.8086211681366\n",
      "Episode: 351/500, Score: 13\n",
      "Elapsed time:  57.31361198425293\n",
      "Episode: 361/500, Score: 103\n",
      "Elapsed time:  60.80094623565674\n",
      "Episode: 371/500, Score: 20\n",
      "Elapsed time:  65.11374115943909\n",
      "Episode: 381/500, Score: 126\n",
      "Elapsed time:  63.02600288391113\n",
      "Episode: 391/500, Score: 126\n",
      "Elapsed time:  61.910564661026\n",
      "Episode: 401/500, Score: 117\n",
      "Elapsed time:  62.13167214393616\n",
      "Episode: 411/500, Score: 178\n",
      "Elapsed time:  67.04395794868469\n",
      "Episode: 421/500, Score: 163\n",
      "Elapsed time:  74.96150612831116\n",
      "Episode: 431/500, Score: 194\n",
      "Elapsed time:  65.25297927856445\n",
      "Episode: 441/500, Score: 315\n",
      "Elapsed time:  62.75997495651245\n",
      "Episode: 451/500, Score: 163\n",
      "Elapsed time:  63.5617778301239\n",
      "Episode: 461/500, Score: 256\n",
      "Elapsed time:  71.27570104598999\n",
      "Episode: 471/500, Score: 210\n",
      "Elapsed time:  79.57909202575684\n",
      "Episode: 481/500, Score: 211\n",
      "Elapsed time:  78.82449007034302\n",
      "Episode: 491/500, Score: 171\n",
      "Elapsed time:  86.5301570892334\n"
     ]
    }
   ],
   "source": [
    "# Training loop\n",
    "env = gym.make('CartPole-v1')\n",
    "env.reset()\n",
    "\n",
    "episodes = 500\n",
    "scores = []\n",
    "last_time = time.time()\n",
    "for e in range(episodes):\n",
    "    state, done = env.reset()\n",
    "    state = np.reshape(state, [1, state_size])\n",
    "    for t in range(500):\n",
    "        action = agent.act(state)\n",
    "        next_state, reward, done, info, _ = env.step(action)\n",
    "        reward = reward if not done else -10\n",
    "        next_state = np.reshape(next_state, [1, state_size]) # do we need this?\n",
    "        agent.remember(state, action, reward, next_state, done)\n",
    "        state = next_state\n",
    "        if done:\n",
    "            if e % 10 == 0:\n",
    "                print(\"Episode: {}/{}, Score: {}\".format(e+1, episodes, t))\n",
    "                print('Elapsed time: ', time.time() - last_time)\n",
    "                last_time = time.time()\n",
    "            scores.append(t)\n",
    "        \n",
    "            break\n",
    "    if len(agent.memory) > batch_size:\n",
    "        agent.replay(batch_size)\n"
   ]
  },
  {
   "cell_type": "code",
   "execution_count": 13,
   "metadata": {},
   "outputs": [
    {
     "data": {
      "text/plain": [
       "[<matplotlib.lines.Line2D at 0xa2724f850>]"
      ]
     },
     "execution_count": 13,
     "metadata": {},
     "output_type": "execute_result"
    },
    {
     "data": {
      "image/png": "[encoded data removed]",
      "text/plain": [
       "<Figure size 640x480 with 1 Axes>"
      ]
     },
     "metadata": {},
     "output_type": "display_data"
    }
   ],
   "source": [
    "import matplotlib.pyplot as plt\n",
    "plt.plot(scores)"
   ]
  },
  {
   "cell_type": "code",
   "execution_count": 14,
   "metadata": {},
   "outputs": [
    {
     "name": "stderr",
     "output_type": "stream",
     "text": [
      "/opt/homebrew/Caskroom/miniforge/base/envs/test_2/lib/python3.9/site-packages/gym/utils/passive_env_checker.py:233: DeprecationWarning: `np.bool8` is a deprecated alias for `np.bool_`.  (Deprecated NumPy 1.24)\n",
      "  if not isinstance(terminated, (bool, np.bool8)):\n"
     ]
    },
    {
     "name": "stdout",
     "output_type": "stream",
     "text": [
      "Test Episode: 1/30, Score: 189\n",
      "Test Episode: 2/30, Score: 156\n",
      "Test Episode: 3/30, Score: 147\n",
      "Test Episode: 4/30, Score: 191\n",
      "Test Episode: 5/30, Score: 167\n",
      "Test Episode: 6/30, Score: 187\n",
      "Test Episode: 7/30, Score: 191\n",
      "Test Episode: 8/30, Score: 164\n",
      "Test Episode: 9/30, Score: 239\n",
      "Test Episode: 10/30, Score: 215\n",
      "Test Episode: 11/30, Score: 156\n",
      "Test Episode: 12/30, Score: 188\n",
      "Test Episode: 13/30, Score: 176\n",
      "Test Episode: 14/30, Score: 152\n",
      "Test Episode: 15/30, Score: 134\n",
      "Test Episode: 16/30, Score: 161\n",
      "Test Episode: 17/30, Score: 153\n",
      "Test Episode: 18/30, Score: 306\n",
      "Test Episode: 19/30, Score: 162\n",
      "Test Episode: 20/30, Score: 164\n",
      "Test Episode: 21/30, Score: 150\n",
      "Test Episode: 22/30, Score: 192\n",
      "Test Episode: 23/30, Score: 157\n",
      "Test Episode: 24/30, Score: 160\n",
      "Test Episode: 25/30, Score: 152\n",
      "Test Episode: 26/30, Score: 148\n",
      "Test Episode: 27/30, Score: 180\n",
      "Test Episode: 28/30, Score: 160\n",
      "Test Episode: 29/30, Score: 181\n",
      "Test Episode: 30/30, Score: 180\n",
      "\n",
      "Score average: 175.27, Sigma: 33.10\n",
      "Average time per step: 0.0211 seconds\n"
     ]
    }
   ],
   "source": [
    "# Test\n",
    "env = gym.make('CartPole-v1') # no visualization\n",
    "\n",
    "# Test\n",
    "test_episodes = 30\n",
    "test_scores = []\n",
    "start_time = time.time()\n",
    "\n",
    "for e in range(test_episodes):\n",
    "    state, done = env.reset()\n",
    "    state = np.reshape(state, [1, state_size])\n",
    "\n",
    "    for t in range(501):\n",
    "        action = np.argmax(agent.model.predict(state, verbose = 0)[0])\n",
    "        state, reward, done, info, _ = env.step(action)\n",
    "        state = np.reshape(state, [1, state_size])\n",
    "    \n",
    "\n",
    "        if done or t == 500:\n",
    "            print(\"Test Episode: {}/{}, Score: {}\".format(e + 1, test_episodes, t))\n",
    "            test_scores.append(t)\n",
    "            break\n",
    "\n",
    "test_average = mean(test_scores)\n",
    "test_sigma = stdev(test_scores)\n",
    "end_time = time.time()\n",
    "total_time = end_time - start_time\n",
    "total_steps = sum(test_scores)\n",
    "average_time_per_step = total_time / total_steps\n",
    "\n",
    "print()\n",
    "print('Score average: {:.2f}, Sigma: {:.2f}'.format(test_average, test_sigma))\n",
    "print('Average time per step: {:.4f} seconds'.format(average_time_per_step))\n",
    "\n",
    "env.close()"
   ]
  },
  {
   "attachments": {},
   "cell_type": "markdown",
   "metadata": {},
   "source": [
    "## Record the video"
   ]
  },
  {
   "cell_type": "code",
   "execution_count": 15,
   "metadata": {},
   "outputs": [
    {
     "name": "stdout",
     "output_type": "stream",
     "text": [
      "Moviepy - Building video video/DQN_gym_balance.mp4.\n",
      "Moviepy - Writing video video/DQN_gym_balance.mp4\n",
      "\n"
     ]
    },
    {
     "name": "stderr",
     "output_type": "stream",
     "text": [
      "                                                                "
     ]
    },
    {
     "name": "stdout",
     "output_type": "stream",
     "text": [
      "Moviepy - Done !\n",
      "Moviepy - video ready video/DQN_gym_balance.mp4\n"
     ]
    },
    {
     "name": "stderr",
     "output_type": "stream",
     "text": [
      "\r"
     ]
    }
   ],
   "source": [
    "from moviepy.editor import ImageSequenceClip\n",
    "\n",
    "# Load the cartpole environment\n",
    "env = gym.make(\"CartPole-v1\", render_mode=\"rgb_array\")\n",
    "\n",
    "# Visualization and video creation\n",
    "def save_video():\n",
    "    frames = []\n",
    "\n",
    "    state, done = env.reset()\n",
    "    for t in range(501):\n",
    "        pixels = env.render()\n",
    "        frames.append(pixels)\n",
    "\n",
    "        state = np.reshape(state, [1, state_size])\n",
    "        action = np.argmax(agent.model.predict(state, verbose = 0)[0])\n",
    "        state, reward, done, info, _ = env.step(action)\n",
    "\n",
    "        if done or t == 500:\n",
    "            break\n",
    "\n",
    "    # Save the frames as a video\n",
    "    clip = ImageSequenceClip(frames, fps=50)\n",
    "    clip.write_videofile(\"video/DQN_gym_balance.mp4\", codec=\"libx264\")\n",
    "\n",
    "# Call the save_video function with your policy function\n",
    "save_video()\n",
    "\n",
    "env.close()"
   ]
  },
  {
   "attachments": {},
   "cell_type": "markdown",
   "metadata": {},
   "source": [
    "this works for the cartpole gym environement as the input is discrete: 0 or 1. The DQN-network does work fine for this. even though i'm not sure why the improvement is stopping after a while and acctually getting worse. maybe the NN is too small?\n",
    "\n",
    "anyways for this to work with the dm_control library, i need to make i work for a continous force input. and there another algorithm is necessary. "
   ]
  },
  {
   "attachments": {},
   "cell_type": "markdown",
   "metadata": {},
   "source": [
    "## Comparison with DQN from Stablebaselines 3"
   ]
  },
  {
   "cell_type": "code",
   "execution_count": 4,
   "metadata": {},
   "outputs": [
    {
     "name": "stdout",
     "output_type": "stream",
     "text": [
      "Using cpu device\n",
      "Wrapping the env with a `Monitor` wrapper\n",
      "Wrapping the env in a DummyVecEnv.\n"
     ]
    },
    {
     "name": "stderr",
     "output_type": "stream",
     "text": [
      "/opt/homebrew/Caskroom/miniforge/base/envs/test_2/lib/python3.9/site-packages/stable_baselines3/common/evaluation.py:65: UserWarning: Evaluation environment is not wrapped with a ``Monitor`` wrapper. This may result in reporting modified episode lengths and rewards, if other wrappers happen to modify these. Consider wrapping environment first with ``Monitor`` wrapper.\n",
      "  warnings.warn(\n"
     ]
    }
   ],
   "source": [
    "import gym\n",
    "from gym import Wrapper\n",
    "import numpy as np\n",
    "\n",
    "class CartPoleWrapper(Wrapper):\n",
    "    def reset(self):\n",
    "        observation, done = self.env.reset()\n",
    "        return np.array(observation)\n",
    "\n",
    "    def step(self, action):\n",
    "        observation, reward, done, info, _ = self.env.step(action)\n",
    "        info = {'episode': done}\n",
    "        return np.array(observation), reward, done, info\n",
    "    def render(self):\n",
    "        self.env.render()\n",
    "\n",
    "from stable_baselines3 import DQN\n",
    "from stable_baselines3.common.evaluation import evaluate_policy\n",
    "\n",
    "# Create the custom wrapped environment\n",
    "env = gym.make('CartPole-v1')\n",
    "#env =gym.make('CartPole-v1', render_mode=\"human\")\n",
    "env = CartPoleWrapper(env)\n",
    "\n",
    "# Define the DQN model\n",
    "model = DQN(\n",
    "    'MlpPolicy',\n",
    "    env,\n",
    "    learning_rate=1e-3,\n",
    "    buffer_size=100000,\n",
    "    learning_starts=1000,\n",
    "    batch_size=64,\n",
    "    tau=1.0,\n",
    "    gamma=0.99,\n",
    "    train_freq=1,\n",
    "    gradient_steps=1,\n",
    "    optimize_memory_usage=False,\n",
    "    target_update_interval=1000,\n",
    "    exploration_fraction=0.1,\n",
    "    exploration_initial_eps=1.0,\n",
    "    exploration_final_eps=0.05,\n",
    "    max_grad_norm=10,\n",
    "    tensorboard_log=None,\n",
    "    create_eval_env=False,\n",
    "    policy_kwargs=None,\n",
    "    verbose=1,\n",
    "    seed=None,\n",
    "    device='auto',\n",
    "    _init_setup_model=True\n",
    ")\n",
    "\n",
    "# Train the DQN model\n",
    "model.learn(total_timesteps=100000, log_interval=1000)\n",
    "\n",
    "# Evaluate the trained model\n",
    "mean_reward, std_reward = evaluate_policy(model, env, n_eval_episodes=10)\n",
    "print(f\"Mean reward: {mean_reward}, Std reward: {std_reward}\")\n",
    "\n",
    "\n",
    "# Save the trained model\n",
    "model.save('dqn_cartpole')\n",
    "\n",
    "# Load the trained model and test it\n",
    "loaded_model = DQN.load('dqn_cartpole', env=env)\n",
    "\n",
    "obs = env.reset()\n",
    "for t in range(1000):\n",
    "    action, _states = loaded_model.predict(obs, deterministic=True)\n",
    "    obs, rewards, dones, info = env.step(action)\n",
    "    env.render()\n",
    "    if dones or t == 500:\n",
    "            print(t)\n",
    "            break\n",
    "\n",
    "env.close()\n"
   ]
  },
  {
   "cell_type": "code",
   "execution_count": null,
   "metadata": {},
   "outputs": [],
   "source": [
    "# information about the model\n",
    "print(\"Policy network architecture:\", model.policy)"
   ]
  },
  {
   "cell_type": "code",
   "execution_count": 9,
   "metadata": {},
   "outputs": [
    {
     "name": "stdout",
     "output_type": "stream",
     "text": [
      "Test Episode: 1/30, Score: 374\n",
      "Test Episode: 2/30, Score: 368\n",
      "Test Episode: 3/30, Score: 376\n",
      "Test Episode: 4/30, Score: 374\n",
      "Test Episode: 5/30, Score: 368\n",
      "Test Episode: 6/30, Score: 369\n",
      "Test Episode: 7/30, Score: 360\n",
      "Test Episode: 8/30, Score: 374\n",
      "Test Episode: 9/30, Score: 384\n",
      "Test Episode: 10/30, Score: 373\n",
      "Test Episode: 11/30, Score: 377\n",
      "Test Episode: 12/30, Score: 374\n",
      "Test Episode: 13/30, Score: 385\n",
      "Test Episode: 14/30, Score: 368\n",
      "Test Episode: 15/30, Score: 368\n",
      "Test Episode: 16/30, Score: 373\n",
      "Test Episode: 17/30, Score: 379\n",
      "Test Episode: 18/30, Score: 361\n",
      "Test Episode: 19/30, Score: 393\n",
      "Test Episode: 20/30, Score: 377\n",
      "Test Episode: 21/30, Score: 373\n",
      "Test Episode: 22/30, Score: 397\n",
      "Test Episode: 23/30, Score: 382\n",
      "Test Episode: 24/30, Score: 380\n",
      "Test Episode: 25/30, Score: 361\n",
      "Test Episode: 26/30, Score: 384\n",
      "Test Episode: 27/30, Score: 398\n",
      "Test Episode: 28/30, Score: 365\n",
      "Test Episode: 29/30, Score: 368\n",
      "Test Episode: 30/30, Score: 360\n",
      "\n",
      "Score average: 374.77, Sigma: 10.06\n",
      "Average time per step: 0.0001 seconds\n"
     ]
    }
   ],
   "source": [
    "# Test\n",
    "env = gym.make('CartPole-v1') # no visualization\n",
    "\n",
    "# Test\n",
    "test_episodes = 30\n",
    "test_scores = []\n",
    "start_time = time.time()\n",
    "\n",
    "for e in range(test_episodes):\n",
    "    state, done = env.reset()\n",
    "    state = np.reshape(state, [1, state_size])\n",
    "\n",
    "    for t in range(501):\n",
    "        action = model.predict(state)[0][0]\n",
    "        state, reward, done, info, _ = env.step(action)\n",
    "        state = np.reshape(state, [1, state_size])\n",
    "    \n",
    "\n",
    "        if done or t == 500:\n",
    "            print(\"Test Episode: {}/{}, Score: {}\".format(e + 1, test_episodes, t))\n",
    "            test_scores.append(t)\n",
    "            break\n",
    "\n",
    "test_average = mean(test_scores)\n",
    "test_sigma = stdev(test_scores)\n",
    "end_time = time.time()\n",
    "total_time = end_time - start_time\n",
    "total_steps = sum(test_scores)\n",
    "average_time_per_step = total_time / total_steps\n",
    "\n",
    "print()\n",
    "print('Score average: {:.2f}, Sigma: {:.2f}'.format(test_average, test_sigma))\n",
    "print('Average time per step: {:.4f} seconds'.format(average_time_per_step))\n",
    "\n",
    "env.close()"
   ]
  },
  {
   "cell_type": "code",
   "execution_count": 10,
   "metadata": {},
   "outputs": [
    {
     "name": "stdout",
     "output_type": "stream",
     "text": [
      "Moviepy - Building video video/DQN_PPO_gym_balance.mp4.\n",
      "Moviepy - Writing video video/DQN_PPO_gym_balance.mp4\n",
      "\n"
     ]
    },
    {
     "name": "stderr",
     "output_type": "stream",
     "text": [
      "                                                                \r"
     ]
    },
    {
     "name": "stdout",
     "output_type": "stream",
     "text": [
      "Moviepy - Done !\n",
      "Moviepy - video ready video/DQN_PPO_gym_balance.mp4\n"
     ]
    }
   ],
   "source": [
    "from moviepy.editor import ImageSequenceClip\n",
    "\n",
    "# Load the cartpole environment\n",
    "env = gym.make(\"CartPole-v1\", render_mode=\"rgb_array\")\n",
    "\n",
    "# Visualization and video creation\n",
    "def save_video():\n",
    "    frames = []\n",
    "\n",
    "    state, done = env.reset()\n",
    "    for t in range(501):\n",
    "        pixels = env.render()\n",
    "        frames.append(pixels)\n",
    "\n",
    "        state = np.reshape(state, [1, state_size])\n",
    "        action = model.predict(state)[0][0]\n",
    "        state, reward, done, info, _ = env.step(action)\n",
    "\n",
    "        if done or t == 500:\n",
    "            break\n",
    "\n",
    "    # Save the frames as a video\n",
    "    clip = ImageSequenceClip(frames, fps=50)\n",
    "    clip.write_videofile(\"video/DQN_sb3_gym_balance.mp4\", codec=\"libx264\")\n",
    "\n",
    "# Call the save_video function with your policy function\n",
    "save_video()\n",
    "\n",
    "env.close()"
   ]
  }
 ],
 "metadata": {
  "kernelspec": {
   "display_name": "test",
   "language": "python",
   "name": "python3"
  },
  "language_info": {
   "codemirror_mode": {
    "name": "ipython",
    "version": 3
   },
   "file_extension": ".py",
   "mimetype": "text/x-python",
   "name": "python",
   "nbconvert_exporter": "python",
   "pygments_lexer": "ipython3",
   "version": "3.9.16"
  },
  "orig_nbformat": 4
 },
 "nbformat": 4,
 "nbformat_minor": 2
}
